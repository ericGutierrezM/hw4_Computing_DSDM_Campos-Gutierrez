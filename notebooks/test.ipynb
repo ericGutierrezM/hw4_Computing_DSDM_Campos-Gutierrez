{
 "cells": [
  {
   "cell_type": "code",
   "execution_count": null,
   "id": "f9c549e9",
   "metadata": {},
   "outputs": [],
   "source": [
    "import sys\n",
    "from pathlib import Path\n",
    "\n",
    "# Add the src folder to the Python path\n",
    "src_path = Path('../src').resolve()  # adjust if your notebook is in another folder\n",
    "if str(src_path) not in sys.path:\n",
    "    sys.path.insert(0, str(src_path))\n",
    "\n",
    "# Now you can import your package\n",
    "from diabetes_mellitus.load_clean_data.load_data import load_data\n",
    "from diabetes_mellitus.load_clean_data.remove_nan import remove_nan\n",
    "from diabetes_mellitus.load_clean_data.fill_nan_mean import fill_nan_mean\n",
    "from diabetes_mellitus.load_clean_data.generate_dummies import generate_dummies\n",
    "from diabetes_mellitus.load_clean_data.binary_encoding_gender import binary_encoding_gender\n",
    "from diabetes_mellitus.load_clean_data.updated_train_test_split import updated_train_test_split\n",
    "\n",
    "from diabetes_mellitus.train_model.fit_model import fit_model\n",
    "\n",
    "from diabetes_mellitus.metrics.updated_roc_auc_score import updated_roc_auc_score\n",
    "\n",
    "\n",
    "# load data\n",
    "data = load_data('../data/sample_diabetes_mellitus_data.csv')\n",
    "\n",
    "# train/test split\n",
    "X_train, X_test, y_train, y_test = updated_train_test_split(data, 'diabetes_mellitus')\n",
    "\n",
    "# cleaning and feature engineering\n",
    "X_train, y_train = remove_nan(X_train, y_train, ['age','gender','ethnicity'])\n",
    "X_test, y_test = remove_nan(X_test, y_test, ['age','gender','ethnicity'])\n",
    "X_train = fill_nan_mean(X_train, ['height', 'weight'])\n",
    "X_test = fill_nan_mean(X_test, ['height', 'weight'])\n",
    "X_train = generate_dummies(X_train, ['ethnicity'])\n",
    "X_test = generate_dummies(X_test, ['ethnicity'])\n",
    "X_train = binary_encoding_gender(X_train)\n",
    "X_test = binary_encoding_gender(X_test)\n",
    "\n",
    "# train model and make predictions. Note that we select here the features to \n",
    "# fit the model in order to be able to modify the regressors included for different uses or cases.\n",
    "X_train = X_train[['age', 'height', 'weight', 'aids', 'cirrhosis', 'hepatic_failure','immunosuppression','leukemia','lymphoma']]\n",
    "X_test = X_test[['age', 'height', 'weight', 'aids', 'cirrhosis', 'hepatic_failure','immunosuppression','leukemia','lymphoma']]\n",
    "\n",
    "updated_X_train, updated_X_test = fit_model(X_train, X_test, y_train)\n",
    "\n",
    "# model metrics - \n",
    "train_roc_auc, test_roc_auc = updated_roc_auc_score(updated_X_train, updated_X_test, y_train, y_test)"
   ]
  }
 ],
 "metadata": {
  "kernelspec": {
   "display_name": "Python 3",
   "language": "python",
   "name": "python3"
  },
  "language_info": {
   "codemirror_mode": {
    "name": "ipython",
    "version": 3
   },
   "file_extension": ".py",
   "mimetype": "text/x-python",
   "name": "python",
   "nbconvert_exporter": "python",
   "pygments_lexer": "ipython3",
   "version": "3.11.9"
  }
 },
 "nbformat": 4,
 "nbformat_minor": 5
}
