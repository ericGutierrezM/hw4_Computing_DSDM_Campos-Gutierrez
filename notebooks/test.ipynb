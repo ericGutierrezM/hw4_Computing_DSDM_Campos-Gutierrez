{
 "cells": [
  {
   "cell_type": "code",
   "execution_count": 1,
   "id": "f9c549e9",
   "metadata": {},
   "outputs": [],
   "source": [
    "from diabetesmellitus.load_clean_data.load_data import load_data\n",
    "from diabetesmellitus.load_clean_data.remove_nan import remove_nan\n",
    "from diabetesmellitus.load_clean_data.fill_nan_mean import fill_nan_mean\n",
    "from diabetesmellitus.load_clean_data.generate_dummies import generate_dummies\n",
    "from diabetesmellitus.load_clean_data.binary_encoding_gender import binary_encoding_gender\n",
    "from diabetesmellitus.load_clean_data.updated_train_test_split import updated_train_test_split\n",
    "\n",
    "from diabetesmellitus.train_model.fit_model import fit_model\n",
    "\n",
    "from diabetesmellitus.metrics.updated_roc_auc_score import updated_roc_auc_score\n",
    "\n",
    "# load data - (a)\n",
    "data = load_data('../data/sample_diabetes_mellitus_data.csv')\n",
    "\n",
    "# train/test split - (b)\n",
    "X_train, X_test, y_train, y_test = updated_train_test_split(data, 'diabetes_mellitus')\n",
    "\n",
    "# cleaning and feature engineering\n",
    "# (c)\n",
    "X_train, y_train = remove_nan(X_train, y_train, ['age','gender','ethnicity'])\n",
    "X_test, y_test = remove_nan(X_test, y_test, ['age','gender','ethnicity'])\n",
    "\n",
    "# (d)\n",
    "X_train = fill_nan_mean(X_train, ['height', 'weight'])\n",
    "X_test = fill_nan_mean(X_test, ['height', 'weight'])\n",
    "\n",
    "# (e)\n",
    "X_train = generate_dummies(X_train, ['ethnicity'])\n",
    "X_test = generate_dummies(X_test, ['ethnicity'])\n",
    "\n",
    "# (f)\n",
    "X_train = binary_encoding_gender(X_train)\n",
    "X_test = binary_encoding_gender(X_test)\n",
    "\n",
    "# train model and make predictions. Note that we select here the features to \n",
    "# fit the model in order to be able to modify the regressors included for different uses or cases. - (g & h)\n",
    "X_train = X_train[['age', 'height', 'weight', 'aids', 'cirrhosis', 'hepatic_failure','immunosuppression','leukemia','lymphoma','solid_tumor_with_metastasis']]\n",
    "X_test = X_test[['age', 'height', 'weight', 'aids', 'cirrhosis', 'hepatic_failure','immunosuppression','leukemia','lymphoma','solid_tumor_with_metastasis']]\n",
    "\n",
    "updated_X_train, updated_X_test = fit_model(X_train, X_test, y_train)\n",
    "\n",
    "# model metrics - (i)\n",
    "train_roc_auc, test_roc_auc = updated_roc_auc_score(updated_X_train, updated_X_test, y_train, y_test)"
   ]
  }
 ],
 "metadata": {
  "kernelspec": {
   "display_name": "hw4-computing-dsdm-campos-gutierrez",
   "language": "python",
   "name": "python3"
  },
  "language_info": {
   "codemirror_mode": {
    "name": "ipython",
    "version": 3
   },
   "file_extension": ".py",
   "mimetype": "text/x-python",
   "name": "python",
   "nbconvert_exporter": "python",
   "pygments_lexer": "ipython3",
   "version": "3.13.7"
  }
 },
 "nbformat": 4,
 "nbformat_minor": 5
}
